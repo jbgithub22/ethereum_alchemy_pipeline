{
 "cells": [
  {
   "cell_type": "code",
   "execution_count": null,
   "metadata": {},
   "outputs": [],
   "source": [
    "from alchemy import Alchemy, Network\n",
    "\n",
    "# create Alchemy object using your Alchemy api key, default is \"demo\"\n",
    "api_key = \"your_api_key\"\n",
    "\n",
    "# choose preferred network from Network, default is ETH_MAINNET\n",
    "network = Network.ETH_MAINNET\n",
    "\n",
    "# choose the maximum number of retries to perform, default is 5\n",
    "max_retries = 3\n",
    "\n",
    "# create Alchemy object\n",
    "alchemy = Alchemy(api_key, network, max_retries=max_retries)"
   ]
  },
  {
   "cell_type": "code",
   "execution_count": null,
   "metadata": {},
   "outputs": [],
   "source": [
    "from alchemy import Alchemy\n",
    "alchemy = Alchemy()\n",
    "\n",
    "# Access standard Web3 request. Gets latest block hash\n",
    "block_hash = Alchemy.to_hex(alchemy.core.get_block('latest')['hash'])\n",
    "\n",
    "# Access Alchemy Enhanced API requests. Gets all transaction receipts for a given block hash.\n",
    "alchemy.core.get_transaction_receipts(block_hash=block_hash)\n",
    "\n",
    "# Access the Alchemy NFT API. Gets contract metadata for NFT and gets collection name\n",
    "contract = \"0x01234567bac6ff94d7e4f0ee23119cf848f93245\"\n",
    "print(alchemy.nft.get_contract_metadata(contract).opensea.collection_name)"
   ]
  }
 ],
 "metadata": {
  "language_info": {
   "name": "python"
  }
 },
 "nbformat": 4,
 "nbformat_minor": 2
}
